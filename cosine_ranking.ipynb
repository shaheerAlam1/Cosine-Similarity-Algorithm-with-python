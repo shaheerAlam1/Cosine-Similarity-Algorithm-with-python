{
  "nbformat": 4,
  "nbformat_minor": 0,
  "metadata": {
    "colab": {
      "name": "cosine ranking.ipynb",
      "provenance": [],
      "collapsed_sections": []
    },
    "kernelspec": {
      "name": "python3",
      "display_name": "Python 3"
    },
    "language_info": {
      "name": "python"
    }
  },
  "cells": [
    {
      "cell_type": "code",
      "metadata": {
        "id": "tONK6x7lDQGn"
      },
      "source": [
        "import math\n",
        "import pandas as pd\n",
        "from matplotlib import pyplot as plt"
      ],
      "execution_count": 4,
      "outputs": []
    },
    {
      "cell_type": "code",
      "metadata": {
        "colab": {
          "base_uri": "https://localhost:8080/",
          "height": 406
        },
        "id": "rQ8-lSDiDG2K",
        "outputId": "f653941e-7fff-46f5-cec2-d0010feb83f4"
      },
      "source": [
        "\n",
        "document_split=lambda document_list: [x.split() for x in document_list]   \n",
        "\n",
        "frequency= lambda terms , doc_list : [doc_list.count(x) for x in terms ]\n",
        "\n",
        "find_frequency = lambda terms , doc_list : [ frequency(terms,x) for x in doc_list]\n",
        "\n",
        "def idfi(dfi,D):\n",
        "  l=[]\n",
        "  for x in dfi:\n",
        "    if(x==0):\n",
        "      l.append(0)\n",
        "    else:\n",
        "      l.append(math.log(D/x,10))\n",
        "  return l\n",
        "\n",
        "def dfi(docs):\n",
        "  l=[]\n",
        "  for x in range(len(docs[0])):\n",
        "    sum=0\n",
        "    for y in range(len(docs)):\n",
        "      if(docs[y][x]>0):\n",
        "        sum=sum+1\n",
        "    l.append(sum)\n",
        "  print(\"dfi\",l)\n",
        "  return idfi(l,len(docs))\n",
        "\n",
        "def dot_product(lis1,lis2):\n",
        "  s=0\n",
        "  for x in range(len(lis1)):\n",
        "    s=s +lis1[x]*lis2[x]\n",
        "  return s\n",
        "\n",
        "weight=lambda doc_f,idfi: [doc_f[x]*idfi[x] for x in range(len(doc_f))]   #formula: term frequency of documment * Inverse document frequency\n",
        "\n",
        "magnitude=lambda lis:math.sqrt(sum(list(map(lambda x:x**2,lis))))         #formula : Square_root(x1^2 + x2^2 ...)\n",
        "\n",
        "cosine=lambda dot,query,doc: dot/(query*doc)                              #formula : (dot_product(query.docment)) / magnitude(Query) * magnitude(Document)\n",
        "\n",
        "def ranks(idfi,docs_f,q_f):                                               #takes idfi,  term frequency of doumnents and term frequency of query and return ranks\n",
        "  query_weight=weight(q_f,idfi)\n",
        "  query_magnitude=magnitude(query_weight)\n",
        "  docs_weight=[weight(x,idfi) for x in docs_f ]\n",
        "  print('documents weight:',docs_weight)\n",
        "  docs_magnitude=[magnitude(x) for x in docs_weight]\n",
        "  print('documents magnitude:',docs_magnitude)\n",
        "  docs_dotproduct=[dot_product(query_weight,x) for x in docs_weight]\n",
        "  print('documents dot-product:',docs_dotproduct)\n",
        "  docs_cosine=[cosine(docs_dotproduct[x],query_magnitude,docs_magnitude[x] ) for x in range(len(docs_dotproduct))]\n",
        "  docs_cosine={ f\"Doc {x+1}\":docs_cosine[x] for x in range(len(docs_cosine))}\n",
        "  print(\"documents cosine:\",docs_cosine)\n",
        "  r={k: v for k, v in sorted(docs_cosine.items(), key=lambda item: item[1],reverse=True )}\n",
        "  return r\n",
        "\n",
        "def cosine_ranking_algo(query,docs):                                      #takes Query and List of Documents as input and return ranks in dictionary sorted by ranks\n",
        "  query=query.lower() \n",
        "  terms=\" \".join(docs) + query\n",
        "  terms=terms.lower()\n",
        "  terms=terms.split()\n",
        "  terms=list(dict.fromkeys(terms))  \n",
        "  terms.sort()\n",
        "  query=query.split()\n",
        "  docs=document_split(docs)\n",
        "  docs_f=find_frequency(terms,docs)\n",
        "  q_f=frequency(terms,query)\n",
        "  idfi= dfi(docs_f)\n",
        "  print(\"idfi:\",idfi)\n",
        "  return ranks(idfi,docs_f,q_f)\n",
        "\n",
        "query=\"stock exchange pakistan \"\n",
        "docs=[\"market of stock exchange is affected by brokers \",\n",
        "      'pakistan stock market is very popular ',\n",
        "      \"stock exchange pakistan is in loss now a days \"]\n",
        "\n",
        "d=cosine_ranking_algo(query,docs) \n",
        "plt.bar(d.keys(),d.values())\n",
        "\n"
      ],
      "execution_count": 5,
      "outputs": [
        {
          "output_type": "stream",
          "name": "stdout",
          "text": [
            "dfi [1, 1, 1, 1, 1, 2, 1, 3, 1, 2, 1, 1, 2, 1, 3, 1]\n",
            "idfi: [0.47712125471966244, 0.47712125471966244, 0.47712125471966244, 0.47712125471966244, 0.47712125471966244, 0.17609125905568124, 0.47712125471966244, 0.0, 0.47712125471966244, 0.17609125905568124, 0.47712125471966244, 0.47712125471966244, 0.17609125905568124, 0.47712125471966244, 0.0, 0.47712125471966244]\n",
            "documents weight: [[0.0, 0.47712125471966244, 0.47712125471966244, 0.47712125471966244, 0.0, 0.17609125905568124, 0.0, 0.0, 0.0, 0.17609125905568124, 0.0, 0.47712125471966244, 0.0, 0.0, 0.0, 0.0], [0.0, 0.0, 0.0, 0.0, 0.0, 0.0, 0.0, 0.0, 0.0, 0.17609125905568124, 0.0, 0.0, 0.17609125905568124, 0.47712125471966244, 0.0, 0.47712125471966244], [0.47712125471966244, 0.0, 0.0, 0.0, 0.47712125471966244, 0.17609125905568124, 0.47712125471966244, 0.0, 0.47712125471966244, 0.0, 0.47712125471966244, 0.0, 0.17609125905568124, 0.0, 0.0, 0.0]]\n",
            "documents magnitude: [0.9862023270367446, 0.7192396307505309, 1.095554526967031]\n",
            "documents dot-product: [0.031008131515815038, 0.031008131515815038, 0.062016263031630076]\n",
            "documents cosine: {'Doc 1': 0.1262573814443149, 'Doc 2': 0.1731207765289807, 'Doc 3': 0.22731013440410225}\n"
          ]
        },
        {
          "output_type": "execute_result",
          "data": {
            "text/plain": [
              "<BarContainer object of 3 artists>"
            ]
          },
          "metadata": {},
          "execution_count": 5
        },
        {
          "output_type": "display_data",
          "data": {
            "text/plain": [
              "<Figure size 432x288 with 1 Axes>"
            ],
            "image/png": "[encoded data removed]"
          },
          "metadata": {
            "needs_background": "light"
          }
        }
      ]
    }
  ]
}